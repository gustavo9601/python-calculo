{
 "cells": [
  {
   "cell_type": "code",
   "execution_count": null,
   "metadata": {
    "collapsed": true
   },
   "outputs": [],
   "source": [
    "# Sumas de Riemann"
   ]
  },
  {
   "cell_type": "code",
   "execution_count": 9,
   "outputs": [
    {
     "name": "stdout",
     "output_type": "stream",
     "text": [
      "x >  [0.         0.11111111 0.22222222 0.33333333 0.44444444 0.55555556\n",
      " 0.66666667 0.77777778 0.88888889 1.        ]\n",
      "suma_inferior >  0.6090534979423867\n",
      "suma_superior >  0.7201646090534979\n"
     ]
    }
   ],
   "source": [
    "import numpy as np\n",
    "\n",
    "def f(x):\n",
    "    return (1 - x ** 2)\n",
    "\n",
    "# creando un espciado de datos uniformes\n",
    "# num=10 // cantidad de numeros a generar, entre mas puntos tendra mejor precision\n",
    "\n",
    "x = np.linspace(0, 1, num=10)\n",
    "suma_inferior = 0\n",
    "suma_superior = 0\n",
    "\n",
    "for i in range(1, len(x)):\n",
    "    suma_inferior = suma_inferior + f(x[i]) * (x[i] - x[i - 1])\n",
    "    suma_superior = suma_superior + f(x[i - 1]) * (x[i] - x[i - 1])\n",
    "\n",
    "print(\"x > \", x)\n",
    "print(\"suma_inferior > \", suma_inferior)\n",
    "print(\"suma_superior > \", suma_superior)\n"
   ],
   "metadata": {
    "collapsed": false,
    "pycharm": {
     "name": "#%%\n"
    }
   }
  }
 ],
 "metadata": {
  "kernelspec": {
   "display_name": "Python 3",
   "language": "python",
   "name": "python3"
  },
  "language_info": {
   "codemirror_mode": {
    "name": "ipython",
    "version": 2
   },
   "file_extension": ".py",
   "mimetype": "text/x-python",
   "name": "python",
   "nbconvert_exporter": "python",
   "pygments_lexer": "ipython2",
   "version": "2.7.6"
  }
 },
 "nbformat": 4,
 "nbformat_minor": 0
}