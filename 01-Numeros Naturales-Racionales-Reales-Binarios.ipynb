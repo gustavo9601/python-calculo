{
 "cells": [
  {
   "cell_type": "markdown",
   "metadata": {},
   "source": [
    "# 01-Numeros Naturales-Racionales-Reales-Binarios"
   ]
  },
  {
   "cell_type": "code",
   "execution_count": 9,
   "metadata": {},
   "outputs": [
    {
     "name": "stdout",
     "output_type": "stream",
     "text": [
      "El numero 10 en binarios es: 1010\n"
     ]
    }
   ],
   "source": [
    "n_natural = 10\n",
    "n_binario = bin(n_natural).replace(\"0b\", \"\")\n",
    "print(f\"El numero {n_natural} en binarios es: {n_binario}\")"
   ]
  },
  {
   "cell_type": "code",
   "execution_count": 4,
   "metadata": {},
   "outputs": [],
   "source": [
    "import math"
   ]
  },
  {
   "cell_type": "code",
   "execution_count": 5,
   "metadata": {},
   "outputs": [
    {
     "name": "stdout",
     "output_type": "stream",
     "text": [
      "Raiz cuadrada de 2 es: 1.4142135623730951\n"
     ]
    }
   ],
   "source": [
    "n = 2\n",
    "raiz_cuadrada = math.sqrt(n)\n",
    "print(f\"Raiz cuadrada de {n} es: {raiz_cuadrada}\")"
   ]
  },
  {
   "cell_type": "code",
   "execution_count": 7,
   "metadata": {},
   "outputs": [
    {
     "data": {
      "text/plain": [
       "2.0000000000000004"
      ]
     },
     "execution_count": 7,
     "metadata": {},
     "output_type": "execute_result"
    }
   ],
   "source": [
    "raiz_cuadrada**2"
   ]
  },
  {
   "cell_type": "code",
   "execution_count": 20,
   "metadata": {},
   "outputs": [
    {
     "name": "stdout",
     "output_type": "stream",
     "text": [
      "Precisicion de 1 valor: 1.400000000000000\n",
      "Precisicion de 2 valor: 1.410000000000000\n",
      "Precisicion de 3 valor: 1.414000000000000\n",
      "Precisicion de 4 valor: 1.414200000000000\n",
      "Precisicion de 5 valor: 1.414210000000000\n",
      "Precisicion de 6 valor: 1.414213000000000\n",
      "Precisicion de 7 valor: 1.414213500000000\n",
      "Precisicion de 8 valor: 1.414213560000000\n",
      "Precisicion de 9 valor: 1.414213562000000\n",
      "Precisicion de 10 valor: 1.414213562300000\n",
      "Precisicion de 11 valor: 1.414213562370000\n",
      "Precisicion de 12 valor: 1.414213562373000\n",
      "Precisicion de 13 valor: 1.414213562373000\n",
      "Precisicion de 14 valor: 1.414213562373090\n"
     ]
    }
   ],
   "source": [
    "# Sucesiones de un numero\n",
    "def trun_n_d(n,d):\n",
    "    s=repr(n).split('.')\n",
    "    if (len(s)==1):\n",
    "        return int(s[0])\n",
    "    return float(s[0]+'.'+s[1][:d])\n",
    "x=math.sqrt(2)\n",
    "n=15\n",
    "for i in range(1,n):\n",
    "    value = \"%.15f\" % trun_n_d(x,i)\n",
    "    print(f'Precisicion de {i} valor: {value}')"
   ]
  },
  {
   "cell_type": "code",
   "execution_count": null,
   "metadata": {},
   "outputs": [],
   "source": []
  },
  {
   "cell_type": "code",
   "execution_count": null,
   "metadata": {},
   "outputs": [],
   "source": []
  },
  {
   "cell_type": "code",
   "execution_count": null,
   "metadata": {},
   "outputs": [],
   "source": []
  },
  {
   "cell_type": "code",
   "execution_count": null,
   "metadata": {},
   "outputs": [],
   "source": []
  },
  {
   "cell_type": "code",
   "execution_count": null,
   "metadata": {},
   "outputs": [],
   "source": []
  },
  {
   "cell_type": "code",
   "execution_count": null,
   "metadata": {},
   "outputs": [],
   "source": []
  },
  {
   "cell_type": "code",
   "execution_count": null,
   "metadata": {},
   "outputs": [],
   "source": []
  },
  {
   "cell_type": "code",
   "execution_count": null,
   "metadata": {},
   "outputs": [],
   "source": []
  },
  {
   "cell_type": "code",
   "execution_count": null,
   "metadata": {},
   "outputs": [],
   "source": []
  },
  {
   "cell_type": "code",
   "execution_count": null,
   "metadata": {},
   "outputs": [],
   "source": []
  },
  {
   "cell_type": "code",
   "execution_count": null,
   "metadata": {},
   "outputs": [],
   "source": []
  },
  {
   "cell_type": "code",
   "execution_count": null,
   "metadata": {},
   "outputs": [],
   "source": []
  },
  {
   "cell_type": "code",
   "execution_count": null,
   "metadata": {},
   "outputs": [],
   "source": []
  },
  {
   "cell_type": "code",
   "execution_count": null,
   "metadata": {},
   "outputs": [],
   "source": []
  }
 ],
 "metadata": {
  "kernelspec": {
   "display_name": "Python 3",
   "language": "python",
   "name": "python3"
  },
  "language_info": {
   "codemirror_mode": {
    "name": "ipython",
    "version": 3
   },
   "file_extension": ".py",
   "mimetype": "text/x-python",
   "name": "python",
   "nbconvert_exporter": "python",
   "pygments_lexer": "ipython3",
   "version": "3.7.3"
  }
 },
 "nbformat": 4,
 "nbformat_minor": 2
}
