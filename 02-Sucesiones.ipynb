{
 "cells": [
  {
   "cell_type": "markdown",
   "metadata": {},
   "source": [
    "# Sucesiones"
   ]
  },
  {
   "cell_type": "code",
   "execution_count": 3,
   "metadata": {},
   "outputs": [],
   "source": [
    "import math"
   ]
  },
  {
   "cell_type": "code",
   "execution_count": 4,
   "metadata": {},
   "outputs": [
    {
     "name": "stdout",
     "output_type": "stream",
     "text": [
      "Precisicion de 1 valor: 1.400000000000000\n",
      "Precisicion de 2 valor: 1.410000000000000\n",
      "Precisicion de 3 valor: 1.414000000000000\n",
      "Precisicion de 4 valor: 1.414200000000000\n",
      "Precisicion de 5 valor: 1.414210000000000\n",
      "Precisicion de 6 valor: 1.414213000000000\n",
      "Precisicion de 7 valor: 1.414213500000000\n",
      "Precisicion de 8 valor: 1.414213560000000\n",
      "Precisicion de 9 valor: 1.414213562000000\n",
      "Precisicion de 10 valor: 1.414213562300000\n",
      "Precisicion de 11 valor: 1.414213562370000\n",
      "Precisicion de 12 valor: 1.414213562373000\n",
      "Precisicion de 13 valor: 1.414213562373000\n",
      "Precisicion de 14 valor: 1.414213562373090\n"
     ]
    }
   ],
   "source": [
    "# Sucesiones de un numero\n",
    "def trun_n_d(n,d):\n",
    "    s=repr(n).split('.')\n",
    "    if (len(s)==1):\n",
    "        return int(s[0])\n",
    "    return float(s[0]+'.'+s[1][:d])\n",
    "x=math.sqrt(2)\n",
    "n=15\n",
    "for i in range(1,n):\n",
    "    value = \"%.15f\" % trun_n_d(x,i)\n",
    "    print(f'Precisicion de {i} valor: {value}')"
   ]
  },
  {
   "cell_type": "code",
   "execution_count": null,
   "metadata": {},
   "outputs": [],
   "source": []
  },
  {
   "cell_type": "code",
   "execution_count": null,
   "metadata": {},
   "outputs": [],
   "source": []
  }
 ],
 "metadata": {
  "kernelspec": {
   "display_name": "Python 3",
   "language": "python",
   "name": "python3"
  },
  "language_info": {
   "codemirror_mode": {
    "name": "ipython",
    "version": 3
   },
   "file_extension": ".py",
   "mimetype": "text/x-python",
   "name": "python",
   "nbconvert_exporter": "python",
   "pygments_lexer": "ipython3",
   "version": "3.7.3"
  }
 },
 "nbformat": 4,
 "nbformat_minor": 2
}
