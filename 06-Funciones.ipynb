{
 "nbformat": 4,
 "nbformat_minor": 0,
 "metadata": {
  "colab": {
   "name": "1 - Programando funciones.ipynb",
   "provenance": [],
   "collapsed_sections": [],
   "toc_visible": true
  },
  "kernelspec": {
   "name": "python3",
   "display_name": "Python 3"
  }
 },
 "cells": [
  {
   "cell_type": "code",
   "metadata": {
    "id": "_eH8kVUMMmkK"
   },
   "source": [
    "### Librerías\n",
    "\n",
    "import matplotlib.pyplot as plt   # librería para graficar\n",
    "import numpy as np                # librería para manejo de vectores y utilidades matemáticas"
   ],
   "execution_count": 2,
   "outputs": []
  },
  {
   "cell_type": "markdown",
   "metadata": {
    "id": "-y2aX5rENwhH"
   },
   "source": [
    "# Funciones algebraicas"
   ]
  },
  {
   "cell_type": "markdown",
   "metadata": {
    "id": "2yBuQZflF0UX"
   },
   "source": [
    "### Función lineal\n",
    "\n",
    "Tiene la forma de $$f(x)=mx + b$$ donde $m$ y $b$  $\\in R$. \n",
    "\n",
    "$m$ puede ser calculada por: $$m=\\frac{y_{2}-y_{1}}{x_{2}-x_{1}}$$\n",
    "\n",
    "y $b$ es el punto de corte con el eje $y$. Su dominio es $Dom_{f} = (-\\infty, \\infty)$. Su imagen es $Im_{f} = (-\\infty, \\infty)$\n",
    "\n",
    "\n"
   ]
  },
  {
   "cell_type": "code",
   "metadata": {
    "id": "n3vMv_IGHGpy",
    "colab": {
     "base_uri": "https://localhost:8080/",
     "height": 282
    },
    "outputId": "e726ee85-2c2f-49a3-de9d-9b0432e270cc"
   },
   "source": [
    "N = 100 # número de puntos\n",
    "\n",
    "def f(m,x,b):\n",
    "  return m*x + b\n",
    "\n",
    "\n",
    "m = (7-6)/(3-2)\n",
    "\n",
    "x = np.linspace(-10.0, 10.0, num=N)\n",
    "print(\"x :\")\n",
    "print(x)\n",
    "\n",
    "\n",
    "b = 10\n",
    "\n",
    "y = f(m,x,b)\n",
    "\n",
    "\n",
    "fig, ax = plt.subplots()\n",
    "ax.plot(x, y)\n",
    "ax.grid()\n",
    "# Dibujando linea Vertial\n",
    "ax.axhline(y=0, color='r')\n",
    "# Dibujando linea horizontal\n",
    "ax.axvline(x=0, color='r')"
   ],
   "execution_count": 3,
   "outputs": [
    {
     "name": "stdout",
     "output_type": "stream",
     "text": [
      "x :\n",
      "[-10.          -9.7979798   -9.5959596   -9.39393939  -9.19191919\n",
      "  -8.98989899  -8.78787879  -8.58585859  -8.38383838  -8.18181818\n",
      "  -7.97979798  -7.77777778  -7.57575758  -7.37373737  -7.17171717\n",
      "  -6.96969697  -6.76767677  -6.56565657  -6.36363636  -6.16161616\n",
      "  -5.95959596  -5.75757576  -5.55555556  -5.35353535  -5.15151515\n",
      "  -4.94949495  -4.74747475  -4.54545455  -4.34343434  -4.14141414\n",
      "  -3.93939394  -3.73737374  -3.53535354  -3.33333333  -3.13131313\n",
      "  -2.92929293  -2.72727273  -2.52525253  -2.32323232  -2.12121212\n",
      "  -1.91919192  -1.71717172  -1.51515152  -1.31313131  -1.11111111\n",
      "  -0.90909091  -0.70707071  -0.50505051  -0.3030303   -0.1010101\n",
      "   0.1010101    0.3030303    0.50505051   0.70707071   0.90909091\n",
      "   1.11111111   1.31313131   1.51515152   1.71717172   1.91919192\n",
      "   2.12121212   2.32323232   2.52525253   2.72727273   2.92929293\n",
      "   3.13131313   3.33333333   3.53535354   3.73737374   3.93939394\n",
      "   4.14141414   4.34343434   4.54545455   4.74747475   4.94949495\n",
      "   5.15151515   5.35353535   5.55555556   5.75757576   5.95959596\n",
      "   6.16161616   6.36363636   6.56565657   6.76767677   6.96969697\n",
      "   7.17171717   7.37373737   7.57575758   7.77777778   7.97979798\n",
      "   8.18181818   8.38383838   8.58585859   8.78787879   8.98989899\n",
      "   9.19191919   9.39393939   9.5959596    9.7979798   10.        ]\n"
     ]
    },
    {
     "data": {
      "text/plain": "<matplotlib.lines.Line2D at 0x26d3782a460>"
     },
     "execution_count": 3,
     "metadata": {},
     "output_type": "execute_result"
    },
    {
     "data": {
      "text/plain": "<Figure size 432x288 with 1 Axes>",
      "image/png": "[encoded data removed]"
     },
     "metadata": {
      "needs_background": "light"
     },
     "output_type": "display_data"
    }
   ]
  },
  {
   "cell_type": "markdown",
   "metadata": {
    "id": "FflFWNqjJCuO"
   },
   "source": [
    "### Función Polinómicas\n",
    "\n",
    "Tiene la forma de $$P(x)=a_{n}x^{n} + a_{n-1}x^{n-1}+...+a_{2}x^{2}+a_{1}x + a_{1}$$\n",
    "\n",
    "a una función que tiene esta forma se le llama polinomio de grado $n$. A los elementos $a$ los llamaremoc coeficientes donde $a \\in R$. \n",
    "\n",
    "**Por ejemplo:**\n",
    "\n",
    "$$P(x)= 2x^{7} - x^{4} + 3x^{2} + 4$$\n",
    "\n",
    "Los polinomios, el grado lo indica el mayor exponente, para este caso  es un polinómio de grado 7.\n",
    "\n",
    "\n",
    "### Funciones potencia\n",
    "\n",
    "Hay unas funciones que son un caso particular de las funciones polinómicas que son las funciones potencia, las cuales tienen la forma:\n",
    "\n",
    "\n",
    "$$f(x)= x^{a}, a \\in R$$ \n",
    "\n",
    "\n",
    "**Por ejemplo:**\n",
    "\n",
    "$$f(x)= x^{2}$$\n",
    "\n",
    "El dominio de $f(x)=x^{2}$ es $Dom_{f} = (-\\infty, \\infty)$. Su imagen es $Im_{f} = [0, \\infty)$\n",
    "\n",
    "\n",
    "\n"
   ]
  },
  {
   "cell_type": "code",
   "metadata": {
    "id": "v5EI228kb6NK",
    "colab": {
     "base_uri": "https://localhost:8080/",
     "height": 633
    },
    "outputId": "f8ae12d9-2e10-4aa3-a7af-40167820326c"
   },
   "source": [
    "def f(x):\n",
    "  return 2*x**7 - x**4 + 3*x**2 + 4\n",
    "\n",
    "x = np.linspace(-100.0, 100.0, num=N)\n",
    "print(\"x:\")\n",
    "print(x)\n",
    "\n",
    "y = f(x)\n",
    "\n",
    "fig, ax = plt.subplots()\n",
    "ax.plot(x, y)\n",
    "ax.grid()\n",
    "ax.axhline(y=0, color='r')\n",
    "ax.axvline(x=0, color='r')"
   ],
   "execution_count": 4,
   "outputs": [
    {
     "name": "stdout",
     "output_type": "stream",
     "text": [
      "x:\n",
      "[-100.          -97.97979798  -95.95959596  -93.93939394  -91.91919192\n",
      "  -89.8989899   -87.87878788  -85.85858586  -83.83838384  -81.81818182\n",
      "  -79.7979798   -77.77777778  -75.75757576  -73.73737374  -71.71717172\n",
      "  -69.6969697   -67.67676768  -65.65656566  -63.63636364  -61.61616162\n",
      "  -59.5959596   -57.57575758  -55.55555556  -53.53535354  -51.51515152\n",
      "  -49.49494949  -47.47474747  -45.45454545  -43.43434343  -41.41414141\n",
      "  -39.39393939  -37.37373737  -35.35353535  -33.33333333  -31.31313131\n",
      "  -29.29292929  -27.27272727  -25.25252525  -23.23232323  -21.21212121\n",
      "  -19.19191919  -17.17171717  -15.15151515  -13.13131313  -11.11111111\n",
      "   -9.09090909   -7.07070707   -5.05050505   -3.03030303   -1.01010101\n",
      "    1.01010101    3.03030303    5.05050505    7.07070707    9.09090909\n",
      "   11.11111111   13.13131313   15.15151515   17.17171717   19.19191919\n",
      "   21.21212121   23.23232323   25.25252525   27.27272727   29.29292929\n",
      "   31.31313131   33.33333333   35.35353535   37.37373737   39.39393939\n",
      "   41.41414141   43.43434343   45.45454545   47.47474747   49.49494949\n",
      "   51.51515152   53.53535354   55.55555556   57.57575758   59.5959596\n",
      "   61.61616162   63.63636364   65.65656566   67.67676768   69.6969697\n",
      "   71.71717172   73.73737374   75.75757576   77.77777778   79.7979798\n",
      "   81.81818182   83.83838384   85.85858586   87.87878788   89.8989899\n",
      "   91.91919192   93.93939394   95.95959596   97.97979798  100.        ]\n"
     ]
    },
    {
     "data": {
      "text/plain": "<matplotlib.lines.Line2D at 0x26d3998a790>"
     },
     "execution_count": 4,
     "metadata": {},
     "output_type": "execute_result"
    },
    {
     "data": {
      "text/plain": "<Figure size 432x288 with 1 Axes>",
      "image/png": "[encoded data removed]"
     },
     "metadata": {
      "needs_background": "light"
     },
     "output_type": "display_data"
    }
   ]
  },
  {
   "cell_type": "markdown",
   "metadata": {
    "id": "K6HsXY0OmJK8"
   },
   "source": [
    "# Funciones trascendentes\n",
    "\n",
    "Las funciones trascendentes no pueden ser expresadas con polinomios. Solo con funciones tales como las trigonométricas, exponenciales, logaritmos."
   ]
  },
  {
   "cell_type": "markdown",
   "metadata": {
    "id": "5-SPisguvJOv"
   },
   "source": [
    "### Funciones trigonométricas\n",
    "\n",
    "Algunos ejemplos son las funciones $cos(x)$, $sen(x)$ y $tan(x)$"
   ]
  },
  {
   "cell_type": "code",
   "metadata": {
    "id": "UUcfkDvwjCiU",
    "colab": {
     "base_uri": "https://localhost:8080/",
     "height": 282
    },
    "outputId": "aecd5daf-b840-4fc9-9094-51bfcb57da0e"
   },
   "source": [
    "from math import pi\n",
    "\n",
    "def f(x):\n",
    "  # Retorna todo el seno para todo el arreglo de np\n",
    "  return np.sin(x)\n",
    "N = 500\n",
    "x = np.linspace(-2*pi, 2*pi, N)\n",
    "\n",
    "y = f(x)\n",
    "\n",
    "fig, ax = plt.subplots()\n",
    "ax.plot(x, y)\n",
    "ax.grid()\n",
    "ax.axhline(y=0, color='r')\n",
    "ax.axvline(x=0, color='r')"
   ],
   "execution_count": 10,
   "outputs": [
    {
     "data": {
      "text/plain": "<matplotlib.lines.Line2D at 0x26d39c6e640>"
     },
     "execution_count": 10,
     "metadata": {},
     "output_type": "execute_result"
    },
    {
     "data": {
      "text/plain": "<Figure size 432x288 with 1 Axes>",
      "image/png": "[encoded data removed]"
     },
     "metadata": {
      "needs_background": "light"
     },
     "output_type": "display_data"
    }
   ]
  },
  {
   "cell_type": "markdown",
   "metadata": {
    "id": "fD5TzUHQz3L0"
   },
   "source": [
    "### Función exponencial\n",
    "\n",
    "Tienen la forma de $$f(x)=a^x$$ donde la base $a$ es una constante positiva. Un gran ejemplo de una función exponencial es usando la base como el número de euler:\n",
    "\n",
    "$$f(x)=e^x$$"
   ]
  },
  {
   "cell_type": "code",
   "metadata": {
    "id": "Ax2KATylz7SQ",
    "colab": {
     "base_uri": "https://localhost:8080/",
     "height": 286
    },
    "outputId": "f6eb604b-9237-437a-abd6-2ee112195c1c"
   },
   "source": [
    "def f(x):\n",
    "  return np.e**x\n",
    "\n",
    "x = np.linspace(-1, 1, num=100000)\n",
    "\n",
    "y = f(x)\n",
    "\n",
    "delta = 0.01\n",
    "\n",
    "fig, ax = plt.subplots()\n",
    "ax.plot(x, y)\n",
    "ax.grid()\n",
    "ax.set_ylim(1 - delta,1 + delta)\n",
    "ax.set_xlim(0 - delta, 0 + delta)\n",
    "ax.axhline(y=0, color='r')\n",
    "ax.axvline(x=0, color='r')"
   ],
   "execution_count": 16,
   "outputs": [
    {
     "data": {
      "text/plain": "<matplotlib.lines.Line2D at 0x26d3b47d0d0>"
     },
     "execution_count": 16,
     "metadata": {},
     "output_type": "execute_result"
    },
    {
     "data": {
      "text/plain": "<Figure size 432x288 with 1 Axes>",
      "image/png": "[encoded data removed]"
     },
     "metadata": {
      "needs_background": "light"
     },
     "output_type": "display_data"
    }
   ]
  },
  {
   "cell_type": "markdown",
   "metadata": {
    "id": "sCuI2UVA046t"
   },
   "source": [
    "### Función logaritmo\n",
    "\n",
    "El logaritmo está definido por la **realación**:\n",
    "\n",
    "$$log_{b}(x) = n \\Longleftrightarrow x=b^n$$ \n",
    "\n",
    "donde: \n",
    "\n",
    "\n",
    "\n",
    "*   $b$ es la base.\n",
    "*   $n$ es el exponente al que está elevado la base.\n",
    "*   $x$ es el resultado de elevar la base $b$ al exponente $n$\n",
    "\n",
    "**Ejemplo:**\n",
    "\n",
    "Teniendo b=2 y n=8, entonces:\n",
    "\n",
    "$$2^8=256$$\n",
    "\n",
    "Por lo que $x=256$. Calculando el logaritmo base 2 de $x$ es:\n",
    "\n",
    "$$log_{2}(256) = 8$$\n",
    "\n",
    "\n",
    "\n"
   ]
  },
  {
   "cell_type": "code",
   "metadata": {
    "id": "e2HWt9k746Un",
    "colab": {
     "base_uri": "https://localhost:8080/",
     "height": 282
    },
    "outputId": "dd027c4d-5613-4d2f-82a6-fdc8ff98e859"
   },
   "source": [
    "# utilidad en los decibelios\n",
    "\n",
    "def f(x):\n",
    "  return np.log10(x)\n",
    "N = 5000\n",
    "x = np.linspace(0.01, 1000, num=N)\n",
    "\n",
    "y = f(x)\n",
    "\n",
    "fig, ax = plt.subplots()\n",
    "ax.plot(x, y)\n",
    "ax.grid()\n",
    "ax.axhline(y=0, color='r')\n",
    "ax.axvline(x=0, color='r')"
   ],
   "execution_count": 20,
   "outputs": [
    {
     "data": {
      "text/plain": "<matplotlib.lines.Line2D at 0x26d3ba43460>"
     },
     "execution_count": 20,
     "metadata": {},
     "output_type": "execute_result"
    },
    {
     "data": {
      "text/plain": "<Figure size 432x288 with 1 Axes>",
      "image/png": "[encoded data removed]"
     },
     "metadata": {
      "needs_background": "light"
     },
     "output_type": "display_data"
    }
   ]
  },
  {
   "cell_type": "markdown",
   "metadata": {
    "id": "6Rz2Ofe_8zPM"
   },
   "source": [
    "# Función seccionada o a trozos\n",
    "\n",
    "Son funciones que tienen diferentes valores definidos por un intervalo. Por ejemplo la función escalón de Heaviside: \n",
    "\n",
    "- Cuando x <= 0, entonces x = 0\n",
    "- Cuando x >= 0, entonces x = 1\n",
    "\n",
    "$$H(x) = \n",
    "     \\begin{cases}\n",
    "        0, &\\quad \\text{para, } x < 0 \\\\\n",
    "        1,  &\\quad\\text{para. } x \\ge 0 \\\\\n",
    "     \\end{cases}\n",
    "$$"
   ]
  },
  {
   "cell_type": "code",
   "metadata": {
    "id": "aWvsXZDzLl0r",
    "colab": {
     "base_uri": "https://localhost:8080/",
     "height": 265
    },
    "outputId": "edeae8b2-4624-434f-a136-a3e809f0b506"
   },
   "source": [
    "def H(X):\n",
    "  # Ya se crea el array de ceros\n",
    "  Y = np.zeros(len(X))\n",
    "  for idx,x in enumerate(X):\n",
    "    if x>=0:\n",
    "      Y[idx] = 1.0\n",
    "  return Y\n",
    "\n",
    "# Datos para graficación\n",
    "\n",
    "N = 100\n",
    "\n",
    "X = np.linspace(-1,1, num=N)\n",
    "\n",
    "y = H(X)\n",
    "\n",
    "fig, ax = plt.subplots()\n",
    "ax.plot(X, y)\n",
    "ax.grid()"
   ],
   "execution_count": 27,
   "outputs": [
    {
     "data": {
      "text/plain": "<Figure size 432x288 with 1 Axes>",
      "image/png": "[encoded data removed]"
     },
     "metadata": {
      "needs_background": "light"
     },
     "output_type": "display_data"
    }
   ]
  }
 ]
}