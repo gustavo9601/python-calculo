{
 "cells": [
  {
   "cell_type": "code",
   "execution_count": null,
   "metadata": {
    "collapsed": true
   },
   "outputs": [],
   "source": [
    "# pip install sympy"
   ]
  },
  {
   "cell_type": "code",
   "execution_count": 3,
   "outputs": [],
   "source": [
    "#Imports\n",
    "\n",
    "import sympy as sym\n"
   ],
   "metadata": {
    "collapsed": false,
    "pycharm": {
     "name": "#%%\n"
    }
   }
  },
  {
   "cell_type": "code",
   "execution_count": 5,
   "outputs": [
    {
     "data": {
      "text/plain": "5*x**4",
      "text/latex": "$\\displaystyle 5 x^{4}$"
     },
     "execution_count": 5,
     "metadata": {},
     "output_type": "execute_result"
    }
   ],
   "source": [
    "# Definicienco las variables categoricas\n",
    "x = sym.Symbol('x')\n",
    "\n",
    "# df = x**5\n",
    "df_1 = sym.diff(x**5)\n",
    "df_1\n",
    "\n"
   ],
   "metadata": {
    "collapsed": false,
    "pycharm": {
     "name": "#%%\n"
    }
   }
  },
  {
   "cell_type": "code",
   "execution_count": 6,
   "outputs": [
    {
     "data": {
      "text/plain": "2*x*cos(x) - (x**2 + 1)*sin(x)",
      "text/latex": "$\\displaystyle 2 x \\cos{\\left(x \\right)} - \\left(x^{2} + 1\\right) \\sin{\\left(x \\right)}$"
     },
     "execution_count": 6,
     "metadata": {},
     "output_type": "execute_result"
    }
   ],
   "source": [
    "# Regla de producto\n",
    "# df = (x**2 + 1) * cos(x)\n",
    "df_2 = sym.diff((x**2 + 1) * sym.cos(x))\n",
    "df_2\n"
   ],
   "metadata": {
    "collapsed": false,
    "pycharm": {
     "name": "#%%\n"
    }
   }
  },
  {
   "cell_type": "code",
   "execution_count": 7,
   "outputs": [
    {
     "data": {
      "text/plain": "(6*x - 9)*(x**2 - 3*x + 5)**2",
      "text/latex": "$\\displaystyle \\left(6 x - 9\\right) \\left(x^{2} - 3 x + 5\\right)^{2}$"
     },
     "execution_count": 7,
     "metadata": {},
     "output_type": "execute_result"
    }
   ],
   "source": [
    "# Regla de la cadena\n",
    "# df = (x**2 - 3x + 5)**3\n",
    "\n",
    "df_3 = sym.diff((x**2 - 3*x + 5) ** 3)\n",
    "df_3\n"
   ],
   "metadata": {
    "collapsed": false,
    "pycharm": {
     "name": "#%%\n"
    }
   }
  },
  {
   "cell_type": "code",
   "execution_count": 10,
   "outputs": [
    {
     "name": "stdout",
     "output_type": "stream",
     "text": [
      "diff_x\n",
      "2*x*y\n",
      "diff_y\n",
      "x**2\n"
     ]
    }
   ],
   "source": [
    "# Multiples variables\n",
    "x, y = sym.symbols('x y')\n",
    "\n",
    "diff_x = sym.diff(x**2 * y, x)\n",
    "diff_y = sym.diff(x**2 * y, y)\n",
    "\n",
    "print(\"diff_x\")\n",
    "print(diff_x)\n",
    "\n",
    "print(\"diff_y\")\n",
    "print(diff_y)"
   ],
   "metadata": {
    "collapsed": false,
    "pycharm": {
     "name": "#%%\n"
    }
   }
  }
 ],
 "metadata": {
  "kernelspec": {
   "display_name": "Python 3",
   "language": "python",
   "name": "python3"
  },
  "language_info": {
   "codemirror_mode": {
    "name": "ipython",
    "version": 2
   },
   "file_extension": ".py",
   "mimetype": "text/x-python",
   "name": "python",
   "nbconvert_exporter": "python",
   "pygments_lexer": "ipython2",
   "version": "2.7.6"
  }
 },
 "nbformat": 4,
 "nbformat_minor": 0
}