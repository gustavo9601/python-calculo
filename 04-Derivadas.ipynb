{
 "cells": [
  {
   "cell_type": "markdown",
   "metadata": {
    "collapsed": true,
    "pycharm": {
     "name": "#%% md\n"
    }
   },
   "source": [
    "# Derivada\n",
    "\n",
    "### Razon de cambio, entre una funcion y otra (punto a otro)\n",
    "\n",
    "La derivada de una función f(x) es otra función f '(x) que representa las pendientes de las rectas tangentes para cualquier punto de f(x)\n",
    "\n",
    "La derivada nos indica la velocidad con la que cambia “algo”, mientras la derivada sea positiva, la velocidad con la que cambia un dato irá incrementando respecto al pasado, pero si tuviéramos derivadas negativas significa que la velocidad no crece sino que decrece."
   ]
  },
  {
   "cell_type": "markdown",
   "source": [
    "### Formulas base derivada\n",
    "<img src=\"https://www.funciones.xyz/wp-content/uploads/2021/10/tabla-derivadas-inmediatas-formulas.png\" />\n",
    "\n",
    "\n",
    "### Notaciones con las que se conoce una derivada\n",
    "<img src=\"https://i.imgur.com/zPqdji0.png\" />\n"
   ],
   "metadata": {
    "collapsed": false,
    "pycharm": {
     "name": "#%% md\n"
    }
   }
  },
  {
   "cell_type": "code",
   "execution_count": 18,
   "outputs": [
    {
     "data": {
      "text/plain": "<Figure size 432x288 with 1 Axes>",
      "image/png": "[encoded data removed]"
     },
     "metadata": {
      "needs_background": "light"
     },
     "output_type": "display_data"
    }
   ],
   "source": [
    "import numpy as np\n",
    "import matplotlib.pyplot as plt\n",
    "from typing import Callable, Any, Iterable\n",
    "\n",
    "# Funcion\n",
    "def f(x: np.ndarray) -> np.ndarray:\n",
    "    return x ** 2\n",
    "\n",
    "\n",
    "x = np.linspace(-10, 10, num=1000)\n",
    "y = f(x)\n",
    "\n",
    "# Derivada con limite tienda a 0.00001\n",
    "def df(f: Callable, x: np.ndarray):\n",
    "    h = 0.00001\n",
    "    return (f(x + h) - f(x)) / h\n",
    "\n",
    "\n",
    "plt.plot(x, y, 'b') # blue\n",
    "plt.plot(x, df(f, x), 'r') # red\n",
    "plt.grid()"
   ],
   "metadata": {
    "collapsed": false,
    "pycharm": {
     "name": "#%%\n"
    }
   }
  },
  {
   "cell_type": "code",
   "execution_count": null,
   "outputs": [],
   "source": [
    "#Imports\n",
    "# pip install sympy\n",
    "import sympy as sym\n"
   ],
   "metadata": {
    "collapsed": false,
    "pycharm": {
     "name": "#%%\n"
    }
   }
  },
  {
   "cell_type": "code",
   "execution_count": 5,
   "outputs": [
    {
     "data": {
      "text/plain": "5*x**4",
      "text/latex": "$\\displaystyle 5 x^{4}$"
     },
     "execution_count": 5,
     "metadata": {},
     "output_type": "execute_result"
    }
   ],
   "source": [
    "# Definicienco las variables categoricas\n",
    "x = sym.Symbol('x')\n",
    "\n",
    "# df = x**5\n",
    "df_1 = sym.diff(x ** 5)\n",
    "df_1\n",
    "\n"
   ],
   "metadata": {
    "collapsed": false,
    "pycharm": {
     "name": "#%%\n"
    }
   }
  },
  {
   "cell_type": "code",
   "execution_count": 6,
   "outputs": [
    {
     "data": {
      "text/plain": "2*x*cos(x) - (x**2 + 1)*sin(x)",
      "text/latex": "$\\displaystyle 2 x \\cos{\\left(x \\right)} - \\left(x^{2} + 1\\right) \\sin{\\left(x \\right)}$"
     },
     "execution_count": 6,
     "metadata": {},
     "output_type": "execute_result"
    }
   ],
   "source": [
    "# Regla de producto\n",
    "# df = (x**2 + 1) * cos(x)\n",
    "df_2 = sym.diff((x ** 2 + 1) * sym.cos(x))\n",
    "df_2\n"
   ],
   "metadata": {
    "collapsed": false,
    "pycharm": {
     "name": "#%%\n"
    }
   }
  },
  {
   "cell_type": "code",
   "execution_count": 7,
   "outputs": [
    {
     "data": {
      "text/plain": "(6*x - 9)*(x**2 - 3*x + 5)**2",
      "text/latex": "$\\displaystyle \\left(6 x - 9\\right) \\left(x^{2} - 3 x + 5\\right)^{2}$"
     },
     "execution_count": 7,
     "metadata": {},
     "output_type": "execute_result"
    }
   ],
   "source": [
    "# Regla de la cadena\n",
    "# df = (x**2 - 3x + 5)**3\n",
    "\n",
    "df_3 = sym.diff((x ** 2 - 3 * x + 5) ** 3)\n",
    "df_3\n"
   ],
   "metadata": {
    "collapsed": false,
    "pycharm": {
     "name": "#%%\n"
    }
   }
  },
  {
   "cell_type": "code",
   "execution_count": 10,
   "outputs": [
    {
     "name": "stdout",
     "output_type": "stream",
     "text": [
      "diff_x\n",
      "2*x*y\n",
      "diff_y\n",
      "x**2\n"
     ]
    }
   ],
   "source": [
    "# Multiples variables\n",
    "x, y = sym.symbols('x y')\n",
    "\n",
    "diff_x = sym.diff(x ** 2 * y, x)\n",
    "diff_y = sym.diff(x ** 2 * y, y)\n",
    "\n",
    "print(\"diff_x\")\n",
    "print(diff_x)\n",
    "\n",
    "print(\"diff_y\")\n",
    "print(diff_y)"
   ],
   "metadata": {
    "collapsed": false,
    "pycharm": {
     "name": "#%%\n"
    }
   }
  }
 ],
 "metadata": {
  "kernelspec": {
   "display_name": "Python 3",
   "language": "python",
   "name": "python3"
  },
  "language_info": {
   "codemirror_mode": {
    "name": "ipython",
    "version": 2
   },
   "file_extension": ".py",
   "mimetype": "text/x-python",
   "name": "python",
   "nbconvert_exporter": "python",
   "pygments_lexer": "ipython2",
   "version": "2.7.6"
  }
 },
 "nbformat": 4,
 "nbformat_minor": 0
}