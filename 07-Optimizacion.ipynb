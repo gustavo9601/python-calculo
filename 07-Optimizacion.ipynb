{
 "cells": [
  {
   "cell_type": "markdown",
   "source": [
    "# Optimizando un modelo\n",
    "¿por qué optimizar?\n",
    "Es necesario tener en cuenta la optimización buscando una función objetivo, esto significa que, con ayuda de las derivadas y los límites podrémos encontrar el área más óptima para el desarrollo de las “oficinas”\n",
    "\n",
    "para esto se hace lo siguiente:\n",
    "\n",
    "\n",
    "Paso 01. entender el área y perimetro del espacio:\n",
    "\n",
    "A = x * y\n",
    "P = x + y + x = 2x + y\n",
    "\n",
    "Paso 02: Tener un área, en este caso de muro, como restricción (50ml de perimetro en este caso)\n",
    "\n",
    "2x + y = 50\n",
    "\n",
    "Paso 03: Buscar la función objetivo, en este caso y (es la función que queremos optimizar)\n",
    "\n",
    "y = 50-2x\n",
    "\n",
    "Paso 04: Reescribir en terminos de la dependiente\n",
    "\n",
    "área en terminos de x\n",
    "\n",
    "A(x) = x(50-2x)\n",
    "A(x) = -2x² + 50x\n",
    "\n",
    "Paso 05: optimizar buscando su derivada e igualar a 0 (se iguala porque queremos saber en qué punto la x está en el punto más alto o más bajo)\n",
    "\n",
    "A’(x) = -4x + 50 = 0\n",
    "\n",
    "-4x + 50 = 0\n",
    "\n",
    "x = -50/ -4 = 25/2 (mínima expresión)\n",
    "\n",
    "Paso 06: Buscar datos a la izquierda y a la derecha\n",
    "\n",
    "A(x) = -2x² + 50x\n",
    "\n",
    "a la izquierda:\n",
    "\n",
    "A(12.45) = -2(12.45)² + 50(12.45) = 1/5 (pendiente positiva)\n",
    "\n",
    "a la derecha\n",
    "\n",
    "A(12.55) = -2(12.55)² + 50(12.55) = -1/5 (pendiente negativa)\n",
    "\n",
    "Conclusión: 12.50 es igual a 0 como punto más alto (máximo)\n",
    "\n",
    "total\n",
    "\n",
    "A = 12.5 * 25 = 312.5 mt2 (área más optimizada)\n",
    "P = 12.5² + 25 = 50\n",
    "\n",
    "\n",
    "<img src=\"https://i.ibb.co/S5znM8y/Ejemplo-optimizacion.png\" />"
   ],
   "metadata": {
    "collapsed": false
   }
  }
 ],
 "metadata": {
  "kernelspec": {
   "display_name": "Python 3",
   "language": "python",
   "name": "python3"
  },
  "language_info": {
   "codemirror_mode": {
    "name": "ipython",
    "version": 2
   },
   "file_extension": ".py",
   "mimetype": "text/x-python",
   "name": "python",
   "nbconvert_exporter": "python",
   "pygments_lexer": "ipython2",
   "version": "2.7.6"
  }
 },
 "nbformat": 4,
 "nbformat_minor": 0
}