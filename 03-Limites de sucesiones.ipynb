{
 "cells": [
  {
   "cell_type": "markdown",
   "metadata": {},
   "source": [
    "# Limites de sucesiones\n",
    "\n",
    "\n",
    "El límite es un análisis de tendencia respecto a un punto. Es decir, hacia donde va el valor de nuestra función a medida que “x” se acerca al valor “a”, pero sin tocar nunca ese valor “a”. Por eso se llama límite, porque “tenemos prohibido tocar” ese valor “a”.\n",
    "\n",
    "El concepto de limite es simplemente decir “Ya que no podemos usar cierto valor porque nos da un resultado indefinido, vamos a acercarnos mucho a ese cierto valor y ver que resultado nos da”"
   ]
  },
  {
   "cell_type": "code",
   "execution_count": 2,
   "metadata": {},
   "outputs": [],
   "source": [
    "from sympy import *\n",
    "from sympy.abc import n"
   ]
  },
  {
   "cell_type": "code",
   "execution_count": 3,
   "metadata": {},
   "outputs": [
    {
     "data": {
      "text/plain": "0",
      "text/latex": "$\\displaystyle 0$"
     },
     "execution_count": 3,
     "metadata": {},
     "output_type": "execute_result"
    }
   ],
   "source": [
    "\"\"\"\n",
    "n => Representacion de la variable de limites\n",
    "limit_seq(expresion) // limite de una sequencia\n",
    "\"\"\"\n",
    "\n",
    "\n",
    "limit_seq((3*n**4-4*n**3-5) / (2*n**5+5*n**3-2*n),n)"
   ]
  },
  {
   "cell_type": "code",
   "execution_count": 3,
   "metadata": {},
   "outputs": [
    {
     "data": {
      "text/latex": [
       "$\\displaystyle \\frac{2}{3}$"
      ],
      "text/plain": [
       "2/3"
      ]
     },
     "execution_count": 3,
     "metadata": {},
     "output_type": "execute_result"
    }
   ],
   "source": [
    "limit_seq((2*n**3+4*n+1) / (3*n**3+2*n**2),n)"
   ]
  },
  {
   "cell_type": "code",
   "execution_count": 7,
   "metadata": {},
   "outputs": [
    {
     "data": {
      "text/latex": [
       "$\\displaystyle 1.73205080756888$"
      ],
      "text/plain": [
       "1.73205080756888"
      ]
     },
     "execution_count": 7,
     "metadata": {},
     "output_type": "execute_result"
    }
   ],
   "source": [
    "# n ** 0.5  || n ** 1 / 2 // raiz cuadrada de n\n",
    "limit_seq(((3.*n**2.-1.)**0.5-n**0.5)/(n+1.),n)"
   ]
  },
  {
   "cell_type": "code",
   "execution_count": 9,
   "metadata": {},
   "outputs": [
    {
     "data": {
      "text/latex": [
       "$\\displaystyle \\infty$"
      ],
      "text/plain": [
       "oo"
      ]
     },
     "execution_count": 9,
     "metadata": {},
     "output_type": "execute_result"
    }
   ],
   "source": [
    "limit_seq((3*n**5+4*n**4+2*n) / (7*n**4+2*n**3+n**2+5*n),n)\n"
   ]
  },
  {
   "cell_type": "code",
   "execution_count": 10,
   "metadata": {},
   "outputs": [
    {
     "data": {
      "text/latex": [
       "$\\displaystyle -0.5$"
      ],
      "text/plain": [
       "-0.500000000000000"
      ]
     },
     "execution_count": 10,
     "metadata": {},
     "output_type": "execute_result"
    }
   ],
   "source": [
    "limit_seq(((n**2-n+4)**(0.5))-((n**2+2)**(0.5)),n)\n"
   ]
  },
  {
   "cell_type": "code",
   "execution_count": 11,
   "metadata": {},
   "outputs": [
    {
     "data": {
      "text/latex": [
       "$\\displaystyle e$"
      ],
      "text/plain": [
       "E"
      ]
     },
     "execution_count": 11,
     "metadata": {},
     "output_type": "execute_result"
    }
   ],
   "source": [
    "limit_seq((1 + 1 / n)**n,n)\n",
    "\n"
   ]
  },
  {
   "cell_type": "code",
   "execution_count": 4,
   "outputs": [
    {
     "data": {
      "text/plain": "oo",
      "text/latex": "$\\displaystyle \\infty$"
     },
     "execution_count": 4,
     "metadata": {},
     "output_type": "execute_result"
    }
   ],
   "source": [
    "limit_seq((n**2 -4 / n - 2),n)\n"
   ],
   "metadata": {
    "collapsed": false,
    "pycharm": {
     "name": "#%%\n"
    }
   }
  },
  {
   "cell_type": "markdown",
   "metadata": {},
   "source": [
    "## Sucesiones recurrentes"
   ]
  },
  {
   "cell_type": "code",
   "execution_count": 14,
   "metadata": {},
   "outputs": [],
   "source": [
    "import math\n",
    "import matplotlib.pyplot as plt"
   ]
  },
  {
   "cell_type": "code",
   "execution_count": 20,
   "metadata": {},
   "outputs": [
    {
     "name": "stdout",
     "output_type": "stream",
     "text": [
      "list(range(1, 26) [1, 2, 3, 4, 5, 6, 7, 8, 9, 10, 11, 12, 13, 14, 15, 16, 17, 18, 19, 20, 21, 22, 23, 24, 25]\n",
      "a [2, 1, 2, 3, 4, 5, 6, 7, 8, 9, 10, 11, 12, 13, 14, 15, 16, 17, 18, 19, 20, 21, 22, 23, 24, 25]\n",
      "a[k+1] 1.0\n",
      "a[k+1] 0.5\n",
      "a[k+1] 0.4\n",
      "a[k+1] 0.3846153846153846\n",
      "a[k+1] 0.38235294117647056\n",
      "a[k+1] 0.38202247191011235\n",
      "a[k+1] 0.38197424892703863\n",
      "a[k+1] 0.38196721311475407\n",
      "a[k+1] 0.3819661865998748\n",
      "a[k+1] 0.3819660368332935\n",
      "a[k+1] 0.3819660149826421\n",
      "a[k+1] 0.38196601179467493\n",
      "a[k+1] 0.3819660113295568\n",
      "a[k+1] 0.381966011261697\n",
      "a[k+1] 0.3819660112517964\n",
      "a[k+1] 0.38196601125035184\n",
      "a[k+1] 0.3819660112501412\n",
      "a[k+1] 0.38196601125011037\n",
      "a[k+1] 0.38196601125010593\n",
      "a[k+1] 0.38196601125010526\n",
      "a[k+1] 0.38196601125010515\n",
      "a[k+1] 0.38196601125010515\n",
      "a[k+1] 0.38196601125010515\n",
      "a[k+1] 0.38196601125010515\n",
      "a[k+1] 0.38196601125010515\n"
     ]
    },
    {
     "data": {
      "text/plain": [
       "[<matplotlib.lines.Line2D at 0x60d1a34be0>]"
      ]
     },
     "execution_count": 20,
     "metadata": {},
     "output_type": "execute_result"
    },
    {
     "data": {
      "image/png": "[encoded data removed]",
      "text/plain": [
       "<Figure size 432x288 with 1 Axes>"
      ]
     },
     "metadata": {
      "needs_background": "light"
     },
     "output_type": "display_data"
    }
   ],
   "source": [
    "l=((3.-math.sqrt(5.))/2.)\n",
    "\n",
    "a=[2]+list(range(1, 26))\n",
    "\n",
    "print(\"list(range(1, 26)\", list(range(1, 26)))\n",
    "print(\"a\", a)\n",
    "\n",
    "\n",
    "#an=2\n",
    "for k in range(25):\n",
    "  a[k+1]=1/(3.-a[k])\n",
    "  print(\"a[k+1]\", a[k+1])\n",
    "\n",
    "#print(l)\n",
    "fig = plt.figure()\n",
    "ax = plt.axes()\n",
    "ax.plot(range(26), a)"
   ]
  },
  {
   "cell_type": "code",
   "execution_count": null,
   "metadata": {},
   "outputs": [],
   "source": []
  },
  {
   "cell_type": "code",
   "execution_count": null,
   "metadata": {},
   "outputs": [],
   "source": []
  },
  {
   "cell_type": "code",
   "execution_count": null,
   "metadata": {},
   "outputs": [],
   "source": []
  },
  {
   "cell_type": "code",
   "execution_count": null,
   "metadata": {},
   "outputs": [],
   "source": []
  },
  {
   "cell_type": "code",
   "execution_count": null,
   "metadata": {},
   "outputs": [],
   "source": []
  },
  {
   "cell_type": "code",
   "execution_count": null,
   "metadata": {},
   "outputs": [],
   "source": []
  },
  {
   "cell_type": "code",
   "execution_count": null,
   "metadata": {},
   "outputs": [],
   "source": []
  },
  {
   "cell_type": "code",
   "execution_count": null,
   "metadata": {},
   "outputs": [],
   "source": []
  },
  {
   "cell_type": "code",
   "execution_count": null,
   "metadata": {},
   "outputs": [],
   "source": []
  },
  {
   "cell_type": "code",
   "execution_count": null,
   "metadata": {},
   "outputs": [],
   "source": []
  }
 ],
 "metadata": {
  "kernelspec": {
   "display_name": "Python 3",
   "language": "python",
   "name": "python3"
  },
  "language_info": {
   "codemirror_mode": {
    "name": "ipython",
    "version": 3
   },
   "file_extension": ".py",
   "mimetype": "text/x-python",
   "name": "python",
   "nbconvert_exporter": "python",
   "pygments_lexer": "ipython3",
   "version": "3.7.3"
  }
 },
 "nbformat": 4,
 "nbformat_minor": 2
}